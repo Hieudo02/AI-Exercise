{
  "nbformat": 4,
  "nbformat_minor": 0,
  "metadata": {
    "colab": {
      "provenance": [],
      "mount_file_id": "17XBqHtqaHuIHCjafE1Nrt0tciiaU0Q7Y",
      "authorship_tag": "ABX9TyNSU9bnztMaGVjhy48kep7h",
      "include_colab_link": true
    },
    "kernelspec": {
      "name": "python3",
      "display_name": "Python 3"
    },
    "language_info": {
      "name": "python"
    },
    "accelerator": "GPU",
    "gpuClass": "standard"
  },
  "cells": [
    {
      "cell_type": "markdown",
      "metadata": {
        "id": "view-in-github",
        "colab_type": "text"
      },
      "source": [
        "<a href=\"https://colab.research.google.com/github/Hieudo02/AI-Exercise/blob/main/Cifar100_CNN.ipynb\" target=\"_parent\"><img src=\"https://colab.research.google.com/assets/colab-badge.svg\" alt=\"Open In Colab\"/></a>"
      ]
    },
    {
      "cell_type": "code",
      "execution_count": 1,
      "metadata": {
        "colab": {
          "base_uri": "https://localhost:8080/"
        },
        "id": "UNmkrtbeSscz",
        "outputId": "0bdaff8b-6b0b-4d40-bced-97ebc854fdbe"
      },
      "outputs": [
        {
          "output_type": "stream",
          "name": "stdout",
          "text": [
            "Downloading data from https://www.cs.toronto.edu/~kriz/cifar-100-python.tar.gz\n",
            "169001437/169001437 [==============================] - 2s 0us/step\n",
            "(50000, 32, 32, 3)\n",
            "(50000, 1)\n",
            "(10000, 32, 32, 3)\n",
            "(10000, 1)\n"
          ]
        }
      ],
      "source": [
        "from keras.datasets import cifar100 \n",
        "(x_train, y_train), (x_test, y_test) = cifar100.load_data()\n",
        "\n",
        "print(x_train.shape) \n",
        "print(y_train.shape) \n",
        "print(x_test.shape) \n",
        "print(y_test.shape) "
      ]
    },
    {
      "cell_type": "code",
      "source": [
        "#reshape\n",
        "x_train = x_train.reshape(50000, 32, 32, 3) # 1 la 1 kenh\n",
        "x_test = x_test.reshape(10000, 32, 32, 3)\n",
        "\n",
        "print(x_train.shape)\n",
        "print(x_test.shape)\n",
        "\n",
        "x_train = x_train.astype('float32')\n",
        "x_train = x_train/255"
      ],
      "metadata": {
        "colab": {
          "base_uri": "https://localhost:8080/"
        },
        "id": "-jvarEXZTtAc",
        "outputId": "1bcaf106-bfd6-42fb-e759-cbecbaf8ce6e"
      },
      "execution_count": 2,
      "outputs": [
        {
          "output_type": "stream",
          "name": "stdout",
          "text": [
            "(50000, 32, 32, 3)\n",
            "(10000, 32, 32, 3)\n"
          ]
        }
      ]
    },
    {
      "cell_type": "code",
      "source": [
        "from keras.utils import to_categorical #chuyen 1 vector sang 1 mang binary\n",
        "\n",
        "y_train = to_categorical(y_train)\n",
        "y_test = to_categorical(y_test)"
      ],
      "metadata": {
        "id": "t7AL2Mk5UDh3"
      },
      "execution_count": 3,
      "outputs": []
    },
    {
      "cell_type": "code",
      "source": [
        "#Tao mo hinh\n",
        "from keras.models import Sequential, Model\n",
        "from keras import Input\n",
        "from keras.layers import Dense, Flatten, Dropout, Conv2D, MaxPooling2D, Normalization,  LeakyReLU\n",
        "from keras.optimizers import Adam\n",
        "\n",
        "batch_size = 64 #lo^ hoc\n",
        "epochs = 20\n",
        "classes = 100 #phan ra 100 loai (lop)"
      ],
      "metadata": {
        "id": "cOzi7h9EULse"
      },
      "execution_count": 10,
      "outputs": []
    },
    {
      "cell_type": "code",
      "source": [
        "model = Sequential()\n",
        "\n",
        "#Bo 32\n",
        "model.add((Conv2D(32, kernel_size = (3,3), activation = 'linear', input_shape = (32, 32, 3), padding = 'same'))) #32 so lan tich chap, bo filter 3,3, padding same la tich chap xong kich thuoc van nhu ban dau\n",
        "model.add(LeakyReLU(alpha = 0.1)) #layer 1 (lop tich chap)\n",
        "model.add(MaxPooling2D((2,2), padding = 'same')) #layer 2 (maxpooling)\n",
        "\n",
        "#Bo 64\n",
        "model.add(Conv2D(64, (3,3), activation = 'linear', padding = 'same'))\n",
        "model.add(LeakyReLU(alpha = 0.1))\n",
        "model.add(MaxPooling2D((2,2), padding = 'same'))\n",
        "\n",
        "#Bo 128\n",
        "model.add(Conv2D(128, (3,3), activation = 'linear', padding = 'same'))\n",
        "model.add(LeakyReLU(alpha = 0.1))\n",
        "model.add(MaxPooling2D((2,2), padding = 'same'))"
      ],
      "metadata": {
        "id": "dIB2jBd1UPSd"
      },
      "execution_count": 11,
      "outputs": []
    },
    {
      "cell_type": "code",
      "source": [
        "from keras.backend import categorical_crossentropy\n",
        "#Dua vao ANN\n",
        "model.add(Flatten()) #làm phẳng kết quả đầu ra của lớp trước đód\n",
        "model.add(Dense(128, activation = 'linear')) #lớp ẩn có 128 lớp\n",
        "model.add(LeakyReLU(alpha = 0.1))\n",
        "model.add(Dense(classes, activation = 'softmax')) #output ra 100 lớp (classes = 100 ở trên)"
      ],
      "metadata": {
        "id": "aSTvM63xUYNz"
      },
      "execution_count": 12,
      "outputs": []
    },
    {
      "cell_type": "code",
      "source": [
        "#compile\n",
        "from keras.losses import categorical_crossentropy\n",
        "\n",
        "model.compile(loss = categorical_crossentropy, optimizer = Adam(), metrics = ['accuracy'])\n",
        "model.summary()"
      ],
      "metadata": {
        "colab": {
          "base_uri": "https://localhost:8080/"
        },
        "id": "wPdYtBEOUg2b",
        "outputId": "536c6035-f0fd-4cc0-feeb-f35863450dea"
      },
      "execution_count": 13,
      "outputs": [
        {
          "output_type": "stream",
          "name": "stdout",
          "text": [
            "Model: \"sequential_1\"\n",
            "_________________________________________________________________\n",
            " Layer (type)                Output Shape              Param #   \n",
            "=================================================================\n",
            " conv2d_3 (Conv2D)           (None, 32, 32, 32)        896       \n",
            "                                                                 \n",
            " leaky_re_lu_4 (LeakyReLU)   (None, 32, 32, 32)        0         \n",
            "                                                                 \n",
            " max_pooling2d_3 (MaxPooling  (None, 16, 16, 32)       0         \n",
            " 2D)                                                             \n",
            "                                                                 \n",
            " conv2d_4 (Conv2D)           (None, 16, 16, 64)        18496     \n",
            "                                                                 \n",
            " leaky_re_lu_5 (LeakyReLU)   (None, 16, 16, 64)        0         \n",
            "                                                                 \n",
            " max_pooling2d_4 (MaxPooling  (None, 8, 8, 64)         0         \n",
            " 2D)                                                             \n",
            "                                                                 \n",
            " conv2d_5 (Conv2D)           (None, 8, 8, 128)         73856     \n",
            "                                                                 \n",
            " leaky_re_lu_6 (LeakyReLU)   (None, 8, 8, 128)         0         \n",
            "                                                                 \n",
            " max_pooling2d_5 (MaxPooling  (None, 4, 4, 128)        0         \n",
            " 2D)                                                             \n",
            "                                                                 \n",
            " flatten_1 (Flatten)         (None, 2048)              0         \n",
            "                                                                 \n",
            " dense_2 (Dense)             (None, 128)               262272    \n",
            "                                                                 \n",
            " leaky_re_lu_7 (LeakyReLU)   (None, 128)               0         \n",
            "                                                                 \n",
            " dense_3 (Dense)             (None, 100)               12900     \n",
            "                                                                 \n",
            "=================================================================\n",
            "Total params: 368,420\n",
            "Trainable params: 368,420\n",
            "Non-trainable params: 0\n",
            "_________________________________________________________________\n"
          ]
        }
      ]
    },
    {
      "cell_type": "code",
      "source": [
        "#train\n",
        "train = model.fit(x_train, y_train, batch_size = batch_size, epochs = epochs, verbose = 1)"
      ],
      "metadata": {
        "colab": {
          "base_uri": "https://localhost:8080/"
        },
        "id": "ni7NKxyQUnIg",
        "outputId": "50349701-5b57-436a-b60e-1ad4c37d8beb"
      },
      "execution_count": 14,
      "outputs": [
        {
          "output_type": "stream",
          "name": "stdout",
          "text": [
            "Epoch 1/20\n",
            "782/782 [==============================] - 12s 5ms/step - loss: 3.5810 - accuracy: 0.1616\n",
            "Epoch 2/20\n",
            "782/782 [==============================] - 4s 4ms/step - loss: 2.7360 - accuracy: 0.3142\n",
            "Epoch 3/20\n",
            "782/782 [==============================] - 4s 5ms/step - loss: 2.3253 - accuracy: 0.3993\n",
            "Epoch 4/20\n",
            "782/782 [==============================] - 4s 5ms/step - loss: 2.0370 - accuracy: 0.4631\n",
            "Epoch 5/20\n",
            "782/782 [==============================] - 4s 4ms/step - loss: 1.7876 - accuracy: 0.5201\n",
            "Epoch 6/20\n",
            "782/782 [==============================] - 4s 5ms/step - loss: 1.5653 - accuracy: 0.5717\n",
            "Epoch 7/20\n",
            "782/782 [==============================] - 5s 6ms/step - loss: 1.3678 - accuracy: 0.6204\n",
            "Epoch 8/20\n",
            "782/782 [==============================] - 4s 4ms/step - loss: 1.1847 - accuracy: 0.6643\n",
            "Epoch 9/20\n",
            "782/782 [==============================] - 4s 4ms/step - loss: 1.0154 - accuracy: 0.7079\n",
            "Epoch 10/20\n",
            "782/782 [==============================] - 4s 5ms/step - loss: 0.8554 - accuracy: 0.7494\n",
            "Epoch 11/20\n",
            "782/782 [==============================] - 4s 5ms/step - loss: 0.7204 - accuracy: 0.7850\n",
            "Epoch 12/20\n",
            "782/782 [==============================] - 4s 5ms/step - loss: 0.5999 - accuracy: 0.8177\n",
            "Epoch 13/20\n",
            "782/782 [==============================] - 4s 5ms/step - loss: 0.5080 - accuracy: 0.8419\n",
            "Epoch 14/20\n",
            "782/782 [==============================] - 4s 5ms/step - loss: 0.4222 - accuracy: 0.8653\n",
            "Epoch 15/20\n",
            "782/782 [==============================] - 4s 4ms/step - loss: 0.3749 - accuracy: 0.8801\n",
            "Epoch 16/20\n",
            "782/782 [==============================] - 4s 5ms/step - loss: 0.3283 - accuracy: 0.8926\n",
            "Epoch 17/20\n",
            "782/782 [==============================] - 4s 5ms/step - loss: 0.2948 - accuracy: 0.9030\n",
            "Epoch 18/20\n",
            "782/782 [==============================] - 4s 4ms/step - loss: 0.2720 - accuracy: 0.9103\n",
            "Epoch 19/20\n",
            "782/782 [==============================] - 4s 4ms/step - loss: 0.2526 - accuracy: 0.9155\n",
            "Epoch 20/20\n",
            "782/782 [==============================] - 4s 5ms/step - loss: 0.2347 - accuracy: 0.9227\n"
          ]
        }
      ]
    },
    {
      "cell_type": "code",
      "source": [
        "#Hiển thị giá trị\n",
        "eval = model.evaluate(x_test, y_test, verbose = 0)\n",
        "print('Test loss: ', eval[0]) #giá trị mất mát\n",
        "print('Test accuracy: ', eval[1]) #giá trị accuracy"
      ],
      "metadata": {
        "colab": {
          "base_uri": "https://localhost:8080/"
        },
        "id": "nFif-_PJVZUb",
        "outputId": "1903bd09-1362-42a8-b814-3a585d5516f3"
      },
      "execution_count": 15,
      "outputs": [
        {
          "output_type": "stream",
          "name": "stdout",
          "text": [
            "Test loss:  2063.290771484375\n",
            "Test accuracy:  0.1695999950170517\n"
          ]
        }
      ]
    },
    {
      "cell_type": "code",
      "source": [
        "import matplotlib.pyplot as plt\n",
        "#Vẽ\n",
        "accuracy = train.history['accuracy']\n",
        "loss = train.history['loss']\n",
        "\n",
        "epochs = range(len(accuracy))\n",
        "plt.plot(epochs, accuracy, 'bo', label = 'Training Accuracy')\n",
        "plt.plot(epochs, loss, 'b', label = 'Test Accuracy')\n",
        "plt.title('Traing & Testing Accuracy')"
      ],
      "metadata": {
        "colab": {
          "base_uri": "https://localhost:8080/",
          "height": 469
        },
        "id": "Gg0TLe-bVa4P",
        "outputId": "9523a965-2f3d-4306-fce6-65f873684b4f"
      },
      "execution_count": 17,
      "outputs": [
        {
          "output_type": "execute_result",
          "data": {
            "text/plain": [
              "Text(0.5, 1.0, 'Traing & Testing Accuracy')"
            ]
          },
          "metadata": {},
          "execution_count": 17
        },
        {
          "output_type": "display_data",
          "data": {
            "text/plain": [
              "<Figure size 640x480 with 1 Axes>"
            ],
            "image/png": "[encoded data removed]"
          },
          "metadata": {}
        }
      ]
    },
    {
      "cell_type": "code",
      "source": [
        "#lưu data\n",
        "model.save('/content/drive/MyDrive/Colab Notebooks/Cifar100_CNN/model_Cifar100_CNN.h5')"
      ],
      "metadata": {
        "id": "e4wnC1znVx0m"
      },
      "execution_count": 18,
      "outputs": []
    }
  ]
}