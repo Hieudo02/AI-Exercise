{
  "nbformat": 4,
  "nbformat_minor": 0,
  "metadata": {
    "colab": {
      "provenance": [],
      "authorship_tag": "ABX9TyM5aCiemw6/ELhml8dZbL25",
      "include_colab_link": true
    },
    "kernelspec": {
      "name": "python3",
      "display_name": "Python 3"
    },
    "language_info": {
      "name": "python"
    }
  },
  "cells": [
    {
      "cell_type": "markdown",
      "metadata": {
        "id": "view-in-github",
        "colab_type": "text"
      },
      "source": [
        "<a href=\"https://colab.research.google.com/github/Hieudo02/AI-Exercise/blob/main/Cifar10.ipynb\" target=\"_parent\"><img src=\"https://colab.research.google.com/assets/colab-badge.svg\" alt=\"Open In Colab\"/></a>"
      ]
    },
    {
      "cell_type": "code",
      "execution_count": 2,
      "metadata": {
        "colab": {
          "base_uri": "https://localhost:8080/"
        },
        "id": "H43abxpLJ4k7",
        "outputId": "af164a8b-10ae-4849-8642-0fb6f495f060"
      },
      "outputs": [
        {
          "output_type": "stream",
          "name": "stdout",
          "text": [
            "(50000, 32, 32, 3)\n",
            "(50000, 1)\n",
            "(10000, 32, 32, 3)\n",
            "(10000, 1)\n"
          ]
        }
      ],
      "source": [
        "#Cifar10\n",
        "from keras.datasets import mnist\n",
        "from keras.models import Sequential\n",
        "from keras.models import load_model\n",
        "from keras.layers import Dense\n",
        "import matplotlib.pyplot as plt\n",
        "import numpy as np\n",
        "from keras.datasets import cifar10\n",
        "from keras.utils import to_categorical #lenh chuyen 2 chieu thanh 1 chieu \n",
        "\n",
        "(x_train, y_train), (x_test, y_test) = cifar10.load_data()\n",
        "\n",
        "print(x_train.shape) \n",
        "print(y_train.shape) \n",
        "print(x_test.shape) \n",
        "print(y_test.shape) "
      ]
    },
    {
      "cell_type": "code",
      "source": [
        "hinh = x_train[4]\n",
        "plt.imshow(hinh, cmap = plt.cm.binary)\n",
        "plt.show\n",
        "print('hinh nay la: ', y_train[4])\n",
        "#0 -> airplane\n",
        "#1 -> car"
      ],
      "metadata": {
        "colab": {
          "base_uri": "https://localhost:8080/",
          "height": 283
        },
        "id": "kCirf9tiJ93i",
        "outputId": "2097699b-8833-4854-f75f-cd96820841e5"
      },
      "execution_count": 3,
      "outputs": [
        {
          "output_type": "stream",
          "name": "stdout",
          "text": [
            "hinh nay la:  [1]\n"
          ]
        },
        {
          "output_type": "display_data",
          "data": {
            "text/plain": [
              "<Figure size 432x288 with 1 Axes>"
            ],
            "image/png": "[encoded data removed]"
          },
          "metadata": {
            "needs_background": "light"
          }
        }
      ]
    },
    {
      "cell_type": "code",
      "source": [
        "#Tao mo hinh\n",
        "model = Sequential()\n",
        "model.add(Dense(512, input_shape=(32*32*3,), activation = 'relu'))\n",
        "model.add(Dense(10, activation = 'softmax'))\n",
        "model.summary()"
      ],
      "metadata": {
        "colab": {
          "base_uri": "https://localhost:8080/"
        },
        "id": "YWeubGh-KfTB",
        "outputId": "f27e34c0-a340-415d-c416-61a41fde960c"
      },
      "execution_count": 4,
      "outputs": [
        {
          "output_type": "stream",
          "name": "stdout",
          "text": [
            "Model: \"sequential\"\n",
            "_________________________________________________________________\n",
            " Layer (type)                Output Shape              Param #   \n",
            "=================================================================\n",
            " dense (Dense)               (None, 512)               1573376   \n",
            "                                                                 \n",
            " dense_1 (Dense)             (None, 10)                5130      \n",
            "                                                                 \n",
            "=================================================================\n",
            "Total params: 1,578,506\n",
            "Trainable params: 1,578,506\n",
            "Non-trainable params: 0\n",
            "_________________________________________________________________\n"
          ]
        }
      ]
    },
    {
      "cell_type": "code",
      "source": [
        "x_train = x_train.reshape((50000, 32*32*3))\n",
        "x_train = x_train.astype('float32')/255\n",
        "\n",
        "x_test = x_test.reshape((10000, 32*32*3))\n",
        "x_test = x_test.astype('float32')/255\n",
        "\n",
        "y_train = to_categorical(y_train, 10)\n",
        "y_test = to_categorical(y_test, 10)"
      ],
      "metadata": {
        "id": "t3Y21XDlKhG9"
      },
      "execution_count": 5,
      "outputs": []
    },
    {
      "cell_type": "code",
      "source": [
        "#compile\n",
        "model.compile(optimizer = 'rmsprop', loss = 'categorical_crossentropy', metrics = 'accuracy') #bộ tối ưu 'rmsprop', mất mát 'categorical_crossentropy'\n",
        "\n",
        "#train\n",
        "model.fit(x_train, y_train, epochs = 10, batch_size = 128) #lô học chỉ là 128 dữ liệu thôi (không học 60000 dữ liệu), học 10 lần -> mỗi lần học 128\n",
        "#đánh giá độ chính xác\n",
        "test_loss, test_acc = model.evaluate(x_test, y_test)\n",
        "\n",
        "print('test_accuracy: ', test_acc)\n",
        "print('test_loss: ', test_loss)"
      ],
      "metadata": {
        "colab": {
          "base_uri": "https://localhost:8080/"
        },
        "id": "yNaHHj-uKklQ",
        "outputId": "c1d587e6-62bd-46d4-b642-12332fbc327e"
      },
      "execution_count": 6,
      "outputs": [
        {
          "output_type": "stream",
          "name": "stdout",
          "text": [
            "Epoch 1/10\n",
            "391/391 [==============================] - 10s 24ms/step - loss: 2.2661 - accuracy: 0.2630\n",
            "Epoch 2/10\n",
            "391/391 [==============================] - 9s 24ms/step - loss: 1.8020 - accuracy: 0.3541\n",
            "Epoch 3/10\n",
            "391/391 [==============================] - 9s 24ms/step - loss: 1.7196 - accuracy: 0.3887\n",
            "Epoch 4/10\n",
            "391/391 [==============================] - 10s 25ms/step - loss: 1.6610 - accuracy: 0.4119\n",
            "Epoch 5/10\n",
            "391/391 [==============================] - 10s 25ms/step - loss: 1.6197 - accuracy: 0.4285\n",
            "Epoch 6/10\n",
            "391/391 [==============================] - 9s 22ms/step - loss: 1.5854 - accuracy: 0.4376\n",
            "Epoch 7/10\n",
            "391/391 [==============================] - 9s 23ms/step - loss: 1.5593 - accuracy: 0.4498\n",
            "Epoch 8/10\n",
            "391/391 [==============================] - 9s 24ms/step - loss: 1.5355 - accuracy: 0.4554\n",
            "Epoch 9/10\n",
            "391/391 [==============================] - 9s 24ms/step - loss: 1.5170 - accuracy: 0.4628\n",
            "Epoch 10/10\n",
            "391/391 [==============================] - 9s 23ms/step - loss: 1.4990 - accuracy: 0.4720\n",
            "313/313 [==============================] - 2s 5ms/step - loss: 1.5841 - accuracy: 0.4470\n",
            "test_accuracy:  0.44699999690055847\n",
            "test_loss:  1.5841178894042969\n"
          ]
        }
      ]
    },
    {
      "cell_type": "code",
      "source": [
        "#thu nghiem\n",
        "from keras.utils import load_img\n",
        "from keras.preprocessing.image import img_to_array\n",
        "\n",
        "img = load_img('cat.jpg', target_size=(276,189,3))\n",
        "plt.imshow(img)\n",
        "img = img_to_array(img)\n",
        "img = img.reshape(1, 276, 189, 3)\n",
        "img = img.astype('float32')\n",
        "img = img/255\n",
        "np.argmax(model.predict(img), axis=-1)"
      ],
      "metadata": {
        "colab": {
          "base_uri": "https://localhost:8080/",
          "height": 373
        },
        "id": "tZ7WsHtuKoZd",
        "outputId": "e6057a4f-578d-4118-ca4b-ecec42998571"
      },
      "execution_count": 9,
      "outputs": [
        {
          "output_type": "error",
          "ename": "ImportError",
          "evalue": "ignored",
          "traceback": [
            "\u001b[0;31m---------------------------------------------------------------------------\u001b[0m",
            "\u001b[0;31mImportError\u001b[0m                               Traceback (most recent call last)",
            "\u001b[0;32m<ipython-input-9-43a3d87733e5>\u001b[0m in \u001b[0;36m<module>\u001b[0;34m\u001b[0m\n\u001b[1;32m      1\u001b[0m \u001b[0;31m#thu nghiem\u001b[0m\u001b[0;34m\u001b[0m\u001b[0;34m\u001b[0m\u001b[0m\n\u001b[1;32m      2\u001b[0m \u001b[0;32mfrom\u001b[0m \u001b[0mkeras\u001b[0m\u001b[0;34m.\u001b[0m\u001b[0mutils\u001b[0m \u001b[0;32mimport\u001b[0m \u001b[0mload_img\u001b[0m\u001b[0;34m\u001b[0m\u001b[0;34m\u001b[0m\u001b[0m\n\u001b[0;32m----> 3\u001b[0;31m \u001b[0;32mfrom\u001b[0m \u001b[0mkeras\u001b[0m\u001b[0;34m.\u001b[0m\u001b[0mpreprocessing\u001b[0m\u001b[0;34m.\u001b[0m\u001b[0mimage\u001b[0m \u001b[0;32mimport\u001b[0m \u001b[0mimg_to_array\u001b[0m\u001b[0;34m\u001b[0m\u001b[0;34m\u001b[0m\u001b[0m\n\u001b[0m\u001b[1;32m      4\u001b[0m \u001b[0;34m\u001b[0m\u001b[0m\n\u001b[1;32m      5\u001b[0m \u001b[0mimg\u001b[0m \u001b[0;34m=\u001b[0m \u001b[0mload_img\u001b[0m\u001b[0;34m(\u001b[0m\u001b[0;34m'cat.jpg'\u001b[0m\u001b[0;34m,\u001b[0m \u001b[0mtarget_size\u001b[0m\u001b[0;34m=\u001b[0m\u001b[0;34m(\u001b[0m\u001b[0;36m276\u001b[0m\u001b[0;34m,\u001b[0m\u001b[0;36m189\u001b[0m\u001b[0;34m,\u001b[0m\u001b[0;36m3\u001b[0m\u001b[0;34m)\u001b[0m\u001b[0;34m)\u001b[0m\u001b[0;34m\u001b[0m\u001b[0;34m\u001b[0m\u001b[0m\n",
            "\u001b[0;31mImportError\u001b[0m: cannot import name 'img_to_array' from 'keras.preprocessing.image' (/usr/local/lib/python3.9/dist-packages/keras/preprocessing/image.py)",
            "",
            "\u001b[0;31m---------------------------------------------------------------------------\u001b[0;32m\nNOTE: If your import is failing due to a missing package, you can\nmanually install dependencies using either !pip or !apt.\n\nTo view examples of installing some common dependencies, click the\n\"Open Examples\" button below.\n\u001b[0;31m---------------------------------------------------------------------------\u001b[0m\n"
          ],
          "errorDetails": {
            "actions": [
              {
                "action": "open_url",
                "actionText": "Open Examples",
                "url": "/notebooks/snippets/importing_libraries.ipynb"
              }
            ]
          }
        }
      ]
    }
  ]
}