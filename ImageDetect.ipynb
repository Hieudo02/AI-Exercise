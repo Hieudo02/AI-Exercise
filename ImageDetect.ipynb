{
  "nbformat": 4,
  "nbformat_minor": 0,
  "metadata": {
    "colab": {
      "provenance": [],
      "mount_file_id": "1PAuAdsRB92LRQmsshG8-IWmMdemcsvBq",
      "authorship_tag": "ABX9TyNbu1TO1zB41e0bic68YMiO",
      "include_colab_link": true
    },
    "kernelspec": {
      "name": "python3",
      "display_name": "Python 3"
    },
    "language_info": {
      "name": "python"
    }
  },
  "cells": [
    {
      "cell_type": "markdown",
      "metadata": {
        "id": "view-in-github",
        "colab_type": "text"
      },
      "source": [
        "<a href=\"https://colab.research.google.com/github/Hieudo02/AI-Exercise/blob/main/ImageDetect.ipynb\" target=\"_parent\"><img src=\"https://colab.research.google.com/assets/colab-badge.svg\" alt=\"Open In Colab\"/></a>"
      ]
    },
    {
      "cell_type": "code",
      "execution_count": null,
      "metadata": {
        "id": "TAaDS64KtvoB"
      },
      "outputs": [],
      "source": [
        "from keras.models import Sequential\n",
        "from keras.models import load_model\n",
        "from keras.layers import Dense\n",
        "import matplotlib.pyplot as plt\n",
        "import numpy as np\n",
        "from keras.utils import to_categorical #lenh chuyen 2 chieu thanh 1 chieu \n",
        "from matplotlib.image import imread\n",
        "from keras.utils import load_img\n",
        "from keras.utils.image_utils import img_to_array\n",
        "from sklearn.model_selection import train_test_split"
      ]
    },
    {
      "cell_type": "code",
      "source": [
        "folder = '/content/drive/MyDrive/Colab Notebooks/AIpic/'\n",
        "\n",
        "#Lấy 1 bức đầu tiên để định dạng giá trị cảu x\n",
        "img = load_img('/content/drive/MyDrive/Colab Notebooks/AIpic/A0.JPG',target_size=(32,32))\n",
        "#Tạo x_train với ảnh tương ứng\n",
        "x_train = img\n",
        "#Tạo một y_train mới ứng với số ảnh được load vào\n",
        "y_train = np.array([[1]])\n",
        "\n",
        "#Cho lấy data là 60  bức ảnh\n",
        "#lấy 10 tấm đầu từ 0-9\n",
        "for a in range (10):\n",
        "  #Lấy đường dẫn của file ảnh trong drive\n",
        "    filename = folder + 'A' + str(a) + '.JPG'\n",
        "    #Lấy ảnh từ file ảnh\n",
        "    img = load_img(filename,target_size=(32,32))\n",
        "    img = img_to_array(img)\n",
        "\n",
        "    #Thêm ảnh vừa tạo vào x_train\n",
        "    x_train = np.append(x_train, img, 0)\n",
        "    #Làm tương tự cho y_train\n",
        "    mang_stt = [[1]]\n",
        "    y_train = np.append(y_train, mang_stt, 0)\n",
        "\n",
        "#Lấy tiếp 50 tấm còn lại từ 10 đến 59\n",
        "for i in range(5): \n",
        "  for j in range(10):\n",
        "    #Lấy đường dẫn của file ảnh trong drive\n",
        "    filename = folder + 'A' + str(i+1) + str(j) + '.JPG'\n",
        "    #Lấy ảnh từ file ảnh\n",
        "    img = load_img(filename,target_size=(32,32))\n",
        "    img = img_to_array(img)\n",
        "\n",
        "    #Thêm ảnh vừa tạo vào x_train\n",
        "    x_train = np.append(x_train, img, 0)\n",
        "    #Làm tương tự cho y_train\n",
        "    mang_stt = [[1]]\n",
        "    y_train = np.append(y_train, mang_stt, 0)"
      ],
      "metadata": {
        "id": "BfT7_p4xub9x"
      },
      "execution_count": 104,
      "outputs": []
    },
    {
      "cell_type": "code",
      "source": [
        "print(x_train.shape)\n",
        "print(y_train.shape)"
      ],
      "metadata": {
        "colab": {
          "base_uri": "https://localhost:8080/"
        },
        "id": "Xey-M8Mm9w8C",
        "outputId": "e3ddaef9-1887-450f-a3ec-1d94a84a040a"
      },
      "execution_count": 105,
      "outputs": [
        {
          "output_type": "stream",
          "name": "stdout",
          "text": [
            "(1952, 32, 3)\n",
            "(61, 1)\n"
          ]
        }
      ]
    },
    {
      "cell_type": "code",
      "source": [
        "#reshape lại data vừa tạo\n",
        "x_train = x_train.reshape((61,32*32*3))\n",
        "x_train = x_train.astype('float32')/255"
      ],
      "metadata": {
        "id": "6M9V4un2ur7_"
      },
      "execution_count": 106,
      "outputs": []
    },
    {
      "cell_type": "code",
      "source": [
        "#Tao mo hinh\n",
        "model = Sequential()\n",
        "\n",
        "#tao cac tang input, ao va output can thiet\n",
        "model.add(Dense(2000, input_shape = (32*32*3,),activation = 'relu'))\n",
        "#lop giua la lop ao voi 1000 noron\n",
        "model.add(Dense(1000, activation = 'relu'))\n",
        "#lop output\n",
        "model.add(Dense(100,activation= 'softmax'))\n",
        "model.summary()"
      ],
      "metadata": {
        "colab": {
          "base_uri": "https://localhost:8080/"
        },
        "id": "BhF1nC_EwoiQ",
        "outputId": "66b74653-d38b-44bc-d891-1fdaa6141e65"
      },
      "execution_count": 107,
      "outputs": [
        {
          "output_type": "stream",
          "name": "stdout",
          "text": [
            "Model: \"sequential_6\"\n",
            "_________________________________________________________________\n",
            " Layer (type)                Output Shape              Param #   \n",
            "=================================================================\n",
            " dense_18 (Dense)            (None, 2000)              6146000   \n",
            "                                                                 \n",
            " dense_19 (Dense)            (None, 1000)              2001000   \n",
            "                                                                 \n",
            " dense_20 (Dense)            (None, 100)               100100    \n",
            "                                                                 \n",
            "=================================================================\n",
            "Total params: 8,247,100\n",
            "Trainable params: 8,247,100\n",
            "Non-trainable params: 0\n",
            "_________________________________________________________________\n"
          ]
        }
      ]
    },
    {
      "cell_type": "code",
      "source": [
        "#Reshape lại y_train\n",
        "y_train = to_categorical(y_train, 100)   #Neu chay di chay lai nhieu lan se khien no tran gia tri\n",
        "y_train.shape"
      ],
      "metadata": {
        "colab": {
          "base_uri": "https://localhost:8080/"
        },
        "id": "X5WugsBOw40Y",
        "outputId": "db8c9730-2991-4fb9-cba4-d8a74052917b"
      },
      "execution_count": 108,
      "outputs": [
        {
          "output_type": "execute_result",
          "data": {
            "text/plain": [
              "(61, 100)"
            ]
          },
          "metadata": {},
          "execution_count": 108
        }
      ]
    },
    {
      "cell_type": "code",
      "source": [
        "#compile\n",
        "model.compile(optimizer = 'rmsprop', loss = 'categorical_crossentropy', metrics = 'accuracy') #bộ tối ưu 'rmsprop', mất mát 'categorical_crossentropy'\n",
        "\n",
        "#train\n",
        "model.fit(x_train, y_train, epochs = 61, batch_size = 1) #học 100 lần -> mỗi lần học 1 ảnh"
      ],
      "metadata": {
        "colab": {
          "base_uri": "https://localhost:8080/"
        },
        "id": "L8Q1PuZcxNUS",
        "outputId": "24465c0f-865a-49b8-ea99-70cebf384c84"
      },
      "execution_count": 110,
      "outputs": [
        {
          "output_type": "stream",
          "name": "stdout",
          "text": [
            "Epoch 1/61\n",
            "61/61 [==============================] - 6s 90ms/step - loss: 0.0000e+00 - accuracy: 1.0000\n",
            "Epoch 2/61\n",
            "61/61 [==============================] - 5s 76ms/step - loss: 0.0000e+00 - accuracy: 1.0000\n",
            "Epoch 3/61\n",
            "61/61 [==============================] - 4s 73ms/step - loss: 0.0000e+00 - accuracy: 1.0000\n",
            "Epoch 4/61\n",
            "61/61 [==============================] - 5s 88ms/step - loss: 0.0000e+00 - accuracy: 1.0000\n",
            "Epoch 5/61\n",
            "61/61 [==============================] - 4s 67ms/step - loss: 0.0000e+00 - accuracy: 1.0000\n",
            "Epoch 6/61\n",
            "61/61 [==============================] - 4s 65ms/step - loss: 0.0000e+00 - accuracy: 1.0000\n",
            "Epoch 7/61\n",
            "61/61 [==============================] - 5s 85ms/step - loss: 0.0000e+00 - accuracy: 1.0000\n",
            "Epoch 8/61\n",
            "61/61 [==============================] - 4s 67ms/step - loss: 0.0000e+00 - accuracy: 1.0000\n",
            "Epoch 9/61\n",
            "61/61 [==============================] - 4s 67ms/step - loss: 0.0000e+00 - accuracy: 1.0000\n",
            "Epoch 10/61\n",
            "61/61 [==============================] - 5s 75ms/step - loss: 0.0000e+00 - accuracy: 1.0000\n",
            "Epoch 11/61\n",
            "61/61 [==============================] - 5s 76ms/step - loss: 0.0000e+00 - accuracy: 1.0000\n",
            "Epoch 12/61\n",
            "61/61 [==============================] - 4s 68ms/step - loss: 0.0000e+00 - accuracy: 1.0000\n",
            "Epoch 13/61\n",
            "61/61 [==============================] - 4s 70ms/step - loss: 0.0000e+00 - accuracy: 1.0000\n",
            "Epoch 14/61\n",
            "61/61 [==============================] - 5s 82ms/step - loss: 0.0000e+00 - accuracy: 1.0000\n",
            "Epoch 15/61\n",
            "61/61 [==============================] - 4s 74ms/step - loss: 0.0000e+00 - accuracy: 1.0000\n",
            "Epoch 16/61\n",
            "61/61 [==============================] - 4s 67ms/step - loss: 0.0000e+00 - accuracy: 1.0000\n",
            "Epoch 17/61\n",
            "61/61 [==============================] - 5s 85ms/step - loss: 0.0000e+00 - accuracy: 1.0000\n",
            "Epoch 18/61\n",
            "61/61 [==============================] - 4s 67ms/step - loss: 0.0000e+00 - accuracy: 1.0000\n",
            "Epoch 19/61\n",
            "61/61 [==============================] - 4s 64ms/step - loss: 0.0000e+00 - accuracy: 1.0000\n",
            "Epoch 20/61\n",
            "61/61 [==============================] - 5s 81ms/step - loss: 0.0000e+00 - accuracy: 1.0000\n",
            "Epoch 21/61\n",
            "61/61 [==============================] - 4s 71ms/step - loss: 0.0000e+00 - accuracy: 1.0000\n",
            "Epoch 22/61\n",
            "61/61 [==============================] - 4s 70ms/step - loss: 0.0000e+00 - accuracy: 1.0000\n",
            "Epoch 23/61\n",
            "61/61 [==============================] - 5s 84ms/step - loss: 0.0000e+00 - accuracy: 1.0000\n",
            "Epoch 24/61\n",
            "61/61 [==============================] - 5s 74ms/step - loss: 0.0000e+00 - accuracy: 1.0000\n",
            "Epoch 25/61\n",
            "61/61 [==============================] - 4s 65ms/step - loss: 0.0000e+00 - accuracy: 1.0000\n",
            "Epoch 26/61\n",
            "61/61 [==============================] - 4s 71ms/step - loss: 0.0000e+00 - accuracy: 1.0000\n",
            "Epoch 27/61\n",
            "61/61 [==============================] - 5s 79ms/step - loss: 0.0000e+00 - accuracy: 1.0000\n",
            "Epoch 28/61\n",
            "61/61 [==============================] - 4s 66ms/step - loss: 0.0000e+00 - accuracy: 1.0000\n",
            "Epoch 29/61\n",
            "61/61 [==============================] - 4s 66ms/step - loss: 0.0000e+00 - accuracy: 1.0000\n",
            "Epoch 30/61\n",
            "61/61 [==============================] - 5s 84ms/step - loss: 0.0000e+00 - accuracy: 1.0000\n",
            "Epoch 31/61\n",
            "61/61 [==============================] - 4s 72ms/step - loss: 0.0000e+00 - accuracy: 1.0000\n",
            "Epoch 32/61\n",
            "61/61 [==============================] - 4s 66ms/step - loss: 0.0000e+00 - accuracy: 1.0000\n",
            "Epoch 33/61\n",
            "61/61 [==============================] - 6s 95ms/step - loss: 0.0000e+00 - accuracy: 1.0000\n",
            "Epoch 34/61\n",
            "61/61 [==============================] - 4s 69ms/step - loss: 0.0000e+00 - accuracy: 1.0000\n",
            "Epoch 35/61\n",
            "61/61 [==============================] - 4s 69ms/step - loss: 0.0000e+00 - accuracy: 1.0000\n",
            "Epoch 36/61\n",
            "61/61 [==============================] - 5s 81ms/step - loss: 0.0000e+00 - accuracy: 1.0000\n",
            "Epoch 37/61\n",
            "61/61 [==============================] - 4s 73ms/step - loss: 0.0000e+00 - accuracy: 1.0000\n",
            "Epoch 38/61\n",
            "61/61 [==============================] - 4s 69ms/step - loss: 0.0000e+00 - accuracy: 1.0000\n",
            "Epoch 39/61\n",
            "61/61 [==============================] - 5s 82ms/step - loss: 0.0000e+00 - accuracy: 1.0000\n",
            "Epoch 40/61\n",
            "61/61 [==============================] - 5s 77ms/step - loss: 0.0000e+00 - accuracy: 1.0000\n",
            "Epoch 41/61\n",
            "61/61 [==============================] - 4s 66ms/step - loss: 0.0000e+00 - accuracy: 1.0000\n",
            "Epoch 42/61\n",
            "61/61 [==============================] - 4s 69ms/step - loss: 0.0000e+00 - accuracy: 1.0000\n",
            "Epoch 43/61\n",
            "61/61 [==============================] - 5s 81ms/step - loss: 0.0000e+00 - accuracy: 1.0000\n",
            "Epoch 44/61\n",
            "61/61 [==============================] - 4s 73ms/step - loss: 0.0000e+00 - accuracy: 1.0000\n",
            "Epoch 45/61\n",
            "61/61 [==============================] - 4s 68ms/step - loss: 0.0000e+00 - accuracy: 1.0000\n",
            "Epoch 46/61\n",
            "61/61 [==============================] - 5s 90ms/step - loss: 0.0000e+00 - accuracy: 1.0000\n",
            "Epoch 47/61\n",
            "61/61 [==============================] - 5s 86ms/step - loss: 0.0000e+00 - accuracy: 1.0000\n",
            "Epoch 48/61\n",
            "61/61 [==============================] - 5s 77ms/step - loss: 0.0000e+00 - accuracy: 1.0000\n",
            "Epoch 49/61\n",
            "61/61 [==============================] - 6s 95ms/step - loss: 0.0000e+00 - accuracy: 1.0000\n",
            "Epoch 50/61\n",
            "61/61 [==============================] - 4s 73ms/step - loss: 0.0000e+00 - accuracy: 1.0000\n",
            "Epoch 51/61\n",
            "61/61 [==============================] - 4s 72ms/step - loss: 0.0000e+00 - accuracy: 1.0000\n",
            "Epoch 52/61\n",
            "61/61 [==============================] - 6s 92ms/step - loss: 0.0000e+00 - accuracy: 1.0000\n",
            "Epoch 53/61\n",
            "61/61 [==============================] - 4s 70ms/step - loss: 0.0000e+00 - accuracy: 1.0000\n",
            "Epoch 54/61\n",
            "61/61 [==============================] - 5s 75ms/step - loss: 0.0000e+00 - accuracy: 1.0000\n",
            "Epoch 55/61\n",
            "61/61 [==============================] - 5s 84ms/step - loss: 0.0000e+00 - accuracy: 1.0000\n",
            "Epoch 56/61\n",
            "61/61 [==============================] - 4s 70ms/step - loss: 0.0000e+00 - accuracy: 1.0000\n",
            "Epoch 57/61\n",
            "61/61 [==============================] - 5s 74ms/step - loss: 0.0000e+00 - accuracy: 1.0000\n",
            "Epoch 58/61\n",
            "61/61 [==============================] - 6s 99ms/step - loss: 0.0000e+00 - accuracy: 1.0000\n",
            "Epoch 59/61\n",
            "61/61 [==============================] - 4s 68ms/step - loss: 0.0000e+00 - accuracy: 1.0000\n",
            "Epoch 60/61\n",
            "61/61 [==============================] - 4s 67ms/step - loss: 0.0000e+00 - accuracy: 1.0000\n",
            "Epoch 61/61\n",
            "61/61 [==============================] - 7s 112ms/step - loss: 0.0000e+00 - accuracy: 1.0000\n"
          ]
        },
        {
          "output_type": "execute_result",
          "data": {
            "text/plain": [
              "<keras.callbacks.History at 0x7f29cb8e1ac0>"
            ]
          },
          "metadata": {},
          "execution_count": 110
        }
      ]
    },
    {
      "cell_type": "code",
      "source": [
        "#lưu data\n",
        "model.save('/content/drive/MyDrive/Colab Notebooks/ImageDetect/model_imageDetect.h5')"
      ],
      "metadata": {
        "id": "LBpoYc78yfhu"
      },
      "execution_count": 111,
      "outputs": []
    }
  ]
}