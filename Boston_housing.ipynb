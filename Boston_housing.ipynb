{
  "nbformat": 4,
  "nbformat_minor": 0,
  "metadata": {
    "colab": {
      "provenance": [],
      "authorship_tag": "ABX9TyNygGNmrFho/IzTevgfykHZ",
      "include_colab_link": true
    },
    "kernelspec": {
      "name": "python3",
      "display_name": "Python 3"
    },
    "language_info": {
      "name": "python"
    }
  },
  "cells": [
    {
      "cell_type": "markdown",
      "metadata": {
        "id": "view-in-github",
        "colab_type": "text"
      },
      "source": [
        "<a href=\"https://colab.research.google.com/github/Hieudo02/AI-Exercise/blob/main/Boston_housing.ipynb\" target=\"_parent\"><img src=\"https://colab.research.google.com/assets/colab-badge.svg\" alt=\"Open In Colab\"/></a>"
      ]
    },
    {
      "cell_type": "code",
      "execution_count": 5,
      "metadata": {
        "id": "H9unxgEpK86T"
      },
      "outputs": [],
      "source": [
        "from keras.datasets import boston_housing"
      ]
    },
    {
      "cell_type": "code",
      "source": [
        "(x_train, y_train), (x_test, y_test) = boston_housing.load_data()\n",
        "\n",
        "print(x_train.shape) \n",
        "print(y_train.shape) \n",
        "print(x_test.shape) \n",
        "print(y_test.shape) "
      ],
      "metadata": {
        "colab": {
          "base_uri": "https://localhost:8080/"
        },
        "id": "xlzLENVVL5mM",
        "outputId": "dbc3d3ad-2112-4ec7-d13b-19c0894a6705"
      },
      "execution_count": 9,
      "outputs": [
        {
          "output_type": "stream",
          "name": "stdout",
          "text": [
            "(404, 13)\n",
            "(404,)\n",
            "(102, 13)\n",
            "(102,)\n"
          ]
        }
      ]
    },
    {
      "cell_type": "code",
      "source": [
        "from sklearn.preprocessing import StandardScaler\n",
        "\n",
        "#scale du lieu\n",
        "sc = StandardScaler()\n",
        "\n",
        "#training\n",
        "sc.fit(x_train)\n",
        "\n",
        "x_train = sc.transform(x_train)\n",
        "x_test = sc.transform(x_test)\n",
        "\n",
        "print(x_train.shape)\n",
        "print(x_test.shape)"
      ],
      "metadata": {
        "colab": {
          "base_uri": "https://localhost:8080/"
        },
        "id": "I6AN7o_3MSe-",
        "outputId": "22808e44-b62b-402e-f11e-e6a2865f7749"
      },
      "execution_count": 25,
      "outputs": [
        {
          "output_type": "stream",
          "name": "stdout",
          "text": [
            "(404, 13)\n",
            "(102, 13)\n"
          ]
        }
      ]
    },
    {
      "cell_type": "code",
      "source": [
        "from keras.models import Sequential\n",
        "from keras.models import load_model\n",
        "from keras.layers import Dense\n",
        "import matplotlib.pyplot as plt\n",
        "import numpy as np\n",
        "from keras.utils import to_categorical #lenh chuyen 2 chieu thanh 1 chieu \n",
        "\n",
        "x_train = x_train.reshape((404, 13))\n",
        "x_test = x_test.reshape((102, 13))"
      ],
      "metadata": {
        "id": "rqVLWjqANx4K"
      },
      "execution_count": 26,
      "outputs": []
    },
    {
      "cell_type": "code",
      "source": [
        "#Tao mo hinh\n",
        "model = Sequential()\n",
        "model.add(Dense(500, input_shape=(13,), activation = 'relu')) #input_shape chỉ có 1 chiều, nên sau phẩy ko cần ghi gì\n",
        "model.add(Dense(200, activation = 'relu'))\n",
        "model.add(Dense(1, activation = 'linear'))\n",
        "model.summary()"
      ],
      "metadata": {
        "colab": {
          "base_uri": "https://localhost:8080/"
        },
        "id": "skXaIRaoNydP",
        "outputId": "d985ec6b-f058-4ff0-fb7a-7c365816d7bf"
      },
      "execution_count": 32,
      "outputs": [
        {
          "output_type": "stream",
          "name": "stdout",
          "text": [
            "Model: \"sequential_4\"\n",
            "_________________________________________________________________\n",
            " Layer (type)                Output Shape              Param #   \n",
            "=================================================================\n",
            " dense_12 (Dense)            (None, 500)               7000      \n",
            "                                                                 \n",
            " dense_13 (Dense)            (None, 200)               100200    \n",
            "                                                                 \n",
            " dense_14 (Dense)            (None, 1)                 201       \n",
            "                                                                 \n",
            "=================================================================\n",
            "Total params: 107,401\n",
            "Trainable params: 107,401\n",
            "Non-trainable params: 0\n",
            "_________________________________________________________________\n"
          ]
        }
      ]
    },
    {
      "cell_type": "code",
      "source": [
        "#compile\n",
        "model.compile(optimizer = 'adam', loss = 'mean_absolute_error', metrics=['mean_absolute_error']) #bộ tối ưu 'adam', mất mát 'mean_absolute_error'\n",
        "\n",
        "#train\n",
        "model.fit(x_train, y_train, epochs = 100, batch_size = 20) \n",
        "#đánh giá độ chính xác\n",
        "test_loss, test_acc = model.evaluate(x_test, y_test)\n",
        "\n",
        "print('test_accuracy: ', test_acc)\n",
        "print('test_loss: ', test_loss)\n",
        "\n",
        "# Tiên đoán giá nhà trên tập kiểm tra\n",
        "y_pred = model.predict(x_test) #x_test đã scale\n",
        "# In ra 10 kết quả tiên đoán đầu tiên\n",
        "for i in range(10):\n",
        "    print('Giá nhà thực tế:', y_test[i], '| Giá nhà tiên đoán:', y_pred[i][0])"
      ],
      "metadata": {
        "colab": {
          "base_uri": "https://localhost:8080/"
        },
        "id": "UpnZkRb2N0uU",
        "outputId": "5b181b4d-516b-4b20-ae08-043430eb2a19"
      },
      "execution_count": 35,
      "outputs": [
        {
          "output_type": "stream",
          "name": "stdout",
          "text": [
            "Epoch 1/100\n",
            "21/21 [==============================] - 1s 6ms/step - loss: 1.1712 - mean_absolute_error: 1.1712\n",
            "Epoch 2/100\n",
            "21/21 [==============================] - 0s 5ms/step - loss: 1.1275 - mean_absolute_error: 1.1275\n",
            "Epoch 3/100\n",
            "21/21 [==============================] - 0s 4ms/step - loss: 1.0904 - mean_absolute_error: 1.0904\n",
            "Epoch 4/100\n",
            "21/21 [==============================] - 0s 5ms/step - loss: 1.1469 - mean_absolute_error: 1.1469\n",
            "Epoch 5/100\n",
            "21/21 [==============================] - 0s 4ms/step - loss: 1.1191 - mean_absolute_error: 1.1191\n",
            "Epoch 6/100\n",
            "21/21 [==============================] - 0s 4ms/step - loss: 0.9951 - mean_absolute_error: 0.9951\n",
            "Epoch 7/100\n",
            "21/21 [==============================] - 0s 4ms/step - loss: 1.1000 - mean_absolute_error: 1.1000\n",
            "Epoch 8/100\n",
            "21/21 [==============================] - 0s 4ms/step - loss: 1.0092 - mean_absolute_error: 1.0092\n",
            "Epoch 9/100\n",
            "21/21 [==============================] - 0s 4ms/step - loss: 1.0389 - mean_absolute_error: 1.0389\n",
            "Epoch 10/100\n",
            "21/21 [==============================] - 0s 4ms/step - loss: 1.0888 - mean_absolute_error: 1.0888\n",
            "Epoch 11/100\n",
            "21/21 [==============================] - 0s 4ms/step - loss: 1.0188 - mean_absolute_error: 1.0188\n",
            "Epoch 12/100\n",
            "21/21 [==============================] - 0s 4ms/step - loss: 0.9938 - mean_absolute_error: 0.9938\n",
            "Epoch 13/100\n",
            "21/21 [==============================] - 0s 4ms/step - loss: 0.9917 - mean_absolute_error: 0.9917\n",
            "Epoch 14/100\n",
            "21/21 [==============================] - 0s 4ms/step - loss: 1.0153 - mean_absolute_error: 1.0153\n",
            "Epoch 15/100\n",
            "21/21 [==============================] - 0s 5ms/step - loss: 1.1282 - mean_absolute_error: 1.1282\n",
            "Epoch 16/100\n",
            "21/21 [==============================] - 0s 4ms/step - loss: 1.2238 - mean_absolute_error: 1.2238\n",
            "Epoch 17/100\n",
            "21/21 [==============================] - 0s 4ms/step - loss: 1.1222 - mean_absolute_error: 1.1222\n",
            "Epoch 18/100\n",
            "21/21 [==============================] - 0s 4ms/step - loss: 1.1306 - mean_absolute_error: 1.1306\n",
            "Epoch 19/100\n",
            "21/21 [==============================] - 0s 4ms/step - loss: 0.9716 - mean_absolute_error: 0.9716\n",
            "Epoch 20/100\n",
            "21/21 [==============================] - 0s 5ms/step - loss: 0.9588 - mean_absolute_error: 0.9588\n",
            "Epoch 21/100\n",
            "21/21 [==============================] - 0s 4ms/step - loss: 1.1289 - mean_absolute_error: 1.1289\n",
            "Epoch 22/100\n",
            "21/21 [==============================] - 0s 4ms/step - loss: 1.0378 - mean_absolute_error: 1.0378\n",
            "Epoch 23/100\n",
            "21/21 [==============================] - 0s 4ms/step - loss: 1.0094 - mean_absolute_error: 1.0094\n",
            "Epoch 24/100\n",
            "21/21 [==============================] - 0s 4ms/step - loss: 1.0001 - mean_absolute_error: 1.0001\n",
            "Epoch 25/100\n",
            "21/21 [==============================] - 0s 4ms/step - loss: 1.0897 - mean_absolute_error: 1.0897\n",
            "Epoch 26/100\n",
            "21/21 [==============================] - 0s 4ms/step - loss: 0.9656 - mean_absolute_error: 0.9656\n",
            "Epoch 27/100\n",
            "21/21 [==============================] - 0s 4ms/step - loss: 1.0484 - mean_absolute_error: 1.0484\n",
            "Epoch 28/100\n",
            "21/21 [==============================] - 0s 4ms/step - loss: 1.0864 - mean_absolute_error: 1.0864\n",
            "Epoch 29/100\n",
            "21/21 [==============================] - 0s 4ms/step - loss: 1.0250 - mean_absolute_error: 1.0250\n",
            "Epoch 30/100\n",
            "21/21 [==============================] - 0s 5ms/step - loss: 1.0355 - mean_absolute_error: 1.0355\n",
            "Epoch 31/100\n",
            "21/21 [==============================] - 0s 4ms/step - loss: 1.0701 - mean_absolute_error: 1.0701\n",
            "Epoch 32/100\n",
            "21/21 [==============================] - 0s 4ms/step - loss: 1.0583 - mean_absolute_error: 1.0583\n",
            "Epoch 33/100\n",
            "21/21 [==============================] - 0s 4ms/step - loss: 1.1519 - mean_absolute_error: 1.1519\n",
            "Epoch 34/100\n",
            "21/21 [==============================] - 0s 6ms/step - loss: 1.0633 - mean_absolute_error: 1.0633\n",
            "Epoch 35/100\n",
            "21/21 [==============================] - 0s 6ms/step - loss: 1.0349 - mean_absolute_error: 1.0349\n",
            "Epoch 36/100\n",
            "21/21 [==============================] - 0s 7ms/step - loss: 0.9925 - mean_absolute_error: 0.9925\n",
            "Epoch 37/100\n",
            "21/21 [==============================] - 0s 6ms/step - loss: 1.0022 - mean_absolute_error: 1.0022\n",
            "Epoch 38/100\n",
            "21/21 [==============================] - 0s 6ms/step - loss: 1.0045 - mean_absolute_error: 1.0045\n",
            "Epoch 39/100\n",
            "21/21 [==============================] - 0s 6ms/step - loss: 0.9476 - mean_absolute_error: 0.9476\n",
            "Epoch 40/100\n",
            "21/21 [==============================] - 0s 6ms/step - loss: 0.9652 - mean_absolute_error: 0.9652\n",
            "Epoch 41/100\n",
            "21/21 [==============================] - 0s 5ms/step - loss: 0.9747 - mean_absolute_error: 0.9747\n",
            "Epoch 42/100\n",
            "21/21 [==============================] - 0s 4ms/step - loss: 0.9962 - mean_absolute_error: 0.9962\n",
            "Epoch 43/100\n",
            "21/21 [==============================] - 0s 4ms/step - loss: 1.0271 - mean_absolute_error: 1.0271\n",
            "Epoch 44/100\n",
            "21/21 [==============================] - 0s 5ms/step - loss: 0.9689 - mean_absolute_error: 0.9689\n",
            "Epoch 45/100\n",
            "21/21 [==============================] - 0s 4ms/step - loss: 1.1051 - mean_absolute_error: 1.1051\n",
            "Epoch 46/100\n",
            "21/21 [==============================] - 0s 4ms/step - loss: 0.9351 - mean_absolute_error: 0.9351\n",
            "Epoch 47/100\n",
            "21/21 [==============================] - 0s 4ms/step - loss: 0.9633 - mean_absolute_error: 0.9633\n",
            "Epoch 48/100\n",
            "21/21 [==============================] - 0s 4ms/step - loss: 0.9555 - mean_absolute_error: 0.9555\n",
            "Epoch 49/100\n",
            "21/21 [==============================] - 0s 4ms/step - loss: 0.9987 - mean_absolute_error: 0.9987\n",
            "Epoch 50/100\n",
            "21/21 [==============================] - 0s 4ms/step - loss: 1.0546 - mean_absolute_error: 1.0546\n",
            "Epoch 51/100\n",
            "21/21 [==============================] - 0s 4ms/step - loss: 1.0922 - mean_absolute_error: 1.0922\n",
            "Epoch 52/100\n",
            "21/21 [==============================] - 0s 4ms/step - loss: 1.0246 - mean_absolute_error: 1.0246\n",
            "Epoch 53/100\n",
            "21/21 [==============================] - 0s 4ms/step - loss: 0.9553 - mean_absolute_error: 0.9553\n",
            "Epoch 54/100\n",
            "21/21 [==============================] - 0s 4ms/step - loss: 1.0022 - mean_absolute_error: 1.0022\n",
            "Epoch 55/100\n",
            "21/21 [==============================] - 0s 5ms/step - loss: 1.0976 - mean_absolute_error: 1.0976\n",
            "Epoch 56/100\n",
            "21/21 [==============================] - 0s 4ms/step - loss: 1.0084 - mean_absolute_error: 1.0084\n",
            "Epoch 57/100\n",
            "21/21 [==============================] - 0s 4ms/step - loss: 0.8585 - mean_absolute_error: 0.8585\n",
            "Epoch 58/100\n",
            "21/21 [==============================] - 0s 4ms/step - loss: 1.1281 - mean_absolute_error: 1.1281\n",
            "Epoch 59/100\n",
            "21/21 [==============================] - 0s 4ms/step - loss: 1.0406 - mean_absolute_error: 1.0406\n",
            "Epoch 60/100\n",
            "21/21 [==============================] - 0s 4ms/step - loss: 0.9259 - mean_absolute_error: 0.9259\n",
            "Epoch 61/100\n",
            "21/21 [==============================] - 0s 4ms/step - loss: 0.9604 - mean_absolute_error: 0.9604\n",
            "Epoch 62/100\n",
            "21/21 [==============================] - 0s 4ms/step - loss: 1.0192 - mean_absolute_error: 1.0192\n",
            "Epoch 63/100\n",
            "21/21 [==============================] - 0s 3ms/step - loss: 1.0409 - mean_absolute_error: 1.0409\n",
            "Epoch 64/100\n",
            "21/21 [==============================] - 0s 4ms/step - loss: 1.0125 - mean_absolute_error: 1.0125\n",
            "Epoch 65/100\n",
            "21/21 [==============================] - 0s 4ms/step - loss: 1.0373 - mean_absolute_error: 1.0373\n",
            "Epoch 66/100\n",
            "21/21 [==============================] - 0s 5ms/step - loss: 0.9731 - mean_absolute_error: 0.9731\n",
            "Epoch 67/100\n",
            "21/21 [==============================] - 0s 4ms/step - loss: 0.9592 - mean_absolute_error: 0.9592\n",
            "Epoch 68/100\n",
            "21/21 [==============================] - 0s 4ms/step - loss: 0.9868 - mean_absolute_error: 0.9868\n",
            "Epoch 69/100\n",
            "21/21 [==============================] - 0s 4ms/step - loss: 1.0341 - mean_absolute_error: 1.0341\n",
            "Epoch 70/100\n",
            "21/21 [==============================] - 0s 4ms/step - loss: 0.8745 - mean_absolute_error: 0.8745\n",
            "Epoch 71/100\n",
            "21/21 [==============================] - 0s 4ms/step - loss: 0.8741 - mean_absolute_error: 0.8741\n",
            "Epoch 72/100\n",
            "21/21 [==============================] - 0s 4ms/step - loss: 0.9991 - mean_absolute_error: 0.9991\n",
            "Epoch 73/100\n",
            "21/21 [==============================] - 0s 3ms/step - loss: 0.8836 - mean_absolute_error: 0.8836\n",
            "Epoch 74/100\n",
            "21/21 [==============================] - 0s 4ms/step - loss: 0.9903 - mean_absolute_error: 0.9903\n",
            "Epoch 75/100\n",
            "21/21 [==============================] - 0s 4ms/step - loss: 0.9101 - mean_absolute_error: 0.9101\n",
            "Epoch 76/100\n",
            "21/21 [==============================] - 0s 4ms/step - loss: 0.8872 - mean_absolute_error: 0.8872\n",
            "Epoch 77/100\n",
            "21/21 [==============================] - 0s 5ms/step - loss: 0.9254 - mean_absolute_error: 0.9254\n",
            "Epoch 78/100\n",
            "21/21 [==============================] - 0s 4ms/step - loss: 1.0651 - mean_absolute_error: 1.0651\n",
            "Epoch 79/100\n",
            "21/21 [==============================] - 0s 4ms/step - loss: 0.8811 - mean_absolute_error: 0.8811\n",
            "Epoch 80/100\n",
            "21/21 [==============================] - 0s 4ms/step - loss: 0.9320 - mean_absolute_error: 0.9320\n",
            "Epoch 81/100\n",
            "21/21 [==============================] - 0s 4ms/step - loss: 0.8420 - mean_absolute_error: 0.8420\n",
            "Epoch 82/100\n",
            "21/21 [==============================] - 0s 5ms/step - loss: 0.9300 - mean_absolute_error: 0.9300\n",
            "Epoch 83/100\n",
            "21/21 [==============================] - 0s 7ms/step - loss: 1.0051 - mean_absolute_error: 1.0051\n",
            "Epoch 84/100\n",
            "21/21 [==============================] - 0s 7ms/step - loss: 0.8655 - mean_absolute_error: 0.8655\n",
            "Epoch 85/100\n",
            "21/21 [==============================] - 0s 7ms/step - loss: 0.8876 - mean_absolute_error: 0.8876\n",
            "Epoch 86/100\n",
            "21/21 [==============================] - 0s 7ms/step - loss: 1.0099 - mean_absolute_error: 1.0099\n",
            "Epoch 87/100\n",
            "21/21 [==============================] - 0s 6ms/step - loss: 0.9611 - mean_absolute_error: 0.9611\n",
            "Epoch 88/100\n",
            "21/21 [==============================] - 0s 6ms/step - loss: 0.9164 - mean_absolute_error: 0.9164\n",
            "Epoch 89/100\n",
            "21/21 [==============================] - 0s 7ms/step - loss: 0.9156 - mean_absolute_error: 0.9156\n",
            "Epoch 90/100\n",
            "21/21 [==============================] - 0s 6ms/step - loss: 0.7954 - mean_absolute_error: 0.7954\n",
            "Epoch 91/100\n",
            "21/21 [==============================] - 0s 6ms/step - loss: 0.9390 - mean_absolute_error: 0.9390\n",
            "Epoch 92/100\n",
            "21/21 [==============================] - 0s 6ms/step - loss: 0.9231 - mean_absolute_error: 0.9231\n",
            "Epoch 93/100\n",
            "21/21 [==============================] - 0s 7ms/step - loss: 0.9485 - mean_absolute_error: 0.9485\n",
            "Epoch 94/100\n",
            "21/21 [==============================] - 0s 7ms/step - loss: 0.9244 - mean_absolute_error: 0.9244\n",
            "Epoch 95/100\n",
            "21/21 [==============================] - 0s 7ms/step - loss: 0.9027 - mean_absolute_error: 0.9027\n",
            "Epoch 96/100\n",
            "21/21 [==============================] - 0s 6ms/step - loss: 0.9491 - mean_absolute_error: 0.9491\n",
            "Epoch 97/100\n",
            "21/21 [==============================] - 0s 6ms/step - loss: 1.0761 - mean_absolute_error: 1.0761\n",
            "Epoch 98/100\n",
            "21/21 [==============================] - 0s 7ms/step - loss: 0.8813 - mean_absolute_error: 0.8813\n",
            "Epoch 99/100\n",
            "21/21 [==============================] - 0s 10ms/step - loss: 0.8649 - mean_absolute_error: 0.8649\n",
            "Epoch 100/100\n",
            "21/21 [==============================] - 0s 10ms/step - loss: 0.8826 - mean_absolute_error: 0.8826\n",
            "4/4 [==============================] - 0s 5ms/step - loss: 2.2847 - mean_absolute_error: 2.2847\n",
            "test_accuracy:  2.284721851348877\n",
            "test_loss:  2.284721851348877\n",
            "4/4 [==============================] - 0s 6ms/step\n",
            "Giá nhà thực tế: 7.2 | Giá nhà tiên đoán: 8.5387745\n",
            "Giá nhà thực tế: 18.8 | Giá nhà tiên đoán: 19.112917\n",
            "Giá nhà thực tế: 19.0 | Giá nhà tiên đoán: 20.357248\n",
            "Giá nhà thực tế: 27.0 | Giá nhà tiên đoán: 33.5886\n",
            "Giá nhà thực tế: 22.2 | Giá nhà tiên đoán: 23.082203\n",
            "Giá nhà thực tế: 24.5 | Giá nhà tiên đoán: 23.75944\n",
            "Giá nhà thực tế: 31.2 | Giá nhà tiên đoán: 29.00757\n",
            "Giá nhà thực tế: 22.9 | Giá nhà tiên đoán: 22.349747\n",
            "Giá nhà thực tế: 20.5 | Giá nhà tiên đoán: 20.156649\n",
            "Giá nhà thực tế: 23.2 | Giá nhà tiên đoán: 19.82273\n"
          ]
        }
      ]
    }
  ]
}